{
 "cells": [
  {
   "cell_type": "code",
   "execution_count": 2,
   "metadata": {},
   "outputs": [],
   "source": [
    "import pandas as pd\n",
    "from scipy.spatial import cKDTree\n",
    "import geopy.distance"
   ]
  },
  {
   "cell_type": "code",
   "execution_count": 3,
   "metadata": {},
   "outputs": [],
   "source": [
    "def ckdnearest_brick_kilns(brick_kilns):\n",
    "    A = brick_kilns[['lat', 'lon']].values\n",
    "    ckd_tree = cKDTree(A)\n",
    "    dist, idx = ckd_tree.query(A, k=2)\n",
    "    distances = []\n",
    "    for i in range(len(A)):\n",
    "        point1 = (A[i, 0], A[i, 1])\n",
    "        point2 = (A[idx[i, 1], 0], A[idx[i, 1], 1])\n",
    "        geo_distance = geopy.distance.distance(point1, point2).km\n",
    "        distances.append(geo_distance)\n",
    "    closest_kiln_point = A[idx[:, 1]]\n",
    "    gdf = pd.concat(\n",
    "        [brick_kilns,\n",
    "            pd.DataFrame(closest_kiln_point, columns=['closest_kiln_long', 'closest_kiln_lat']),\n",
    "            pd.Series(distances, name='dist')], axis=1)\n",
    "    return gdf"
   ]
  },
  {
   "cell_type": "code",
   "execution_count": 10,
   "metadata": {},
   "outputs": [],
   "source": [
    "brick_kilns_paths = {\n",
    "        'All' : '/home/shataxi.dubey/shataxi_work/Monitoring_Brick_Kiln_Compliance/combined_file.csv',\n",
    "        \"Punjab\": '/home/shataxi.dubey/shataxi_work/Monitoring_Brick_Kiln_Compliance/punjab.csv',\n",
    "        \"Haryana\": '/home/shataxi.dubey/shataxi_work/Monitoring_Brick_Kiln_Compliance/haryana.csv',\n",
    "        \"Bihar\": '/home/shataxi.dubey/shataxi_work/Monitoring_Brick_Kiln_Compliance/bihar.csv',\n",
    "        \"Uttar Pradesh\": '/home/shataxi.dubey/shataxi_work/Monitoring_Brick_Kiln_Compliance/uttar_pradesh.csv',\n",
    "        \"West Bengal\": '/home/shataxi.dubey/shataxi_work/Monitoring_Brick_Kiln_Compliance/west_bengal.csv',\n",
    "    }\n",
    "state = 'West Bengal'\n",
    "brick_kilns_path = brick_kilns_paths[state]\n",
    "bk_kiln_mapping = ckdnearest_brick_kilns(pd.read_csv(brick_kilns_path))\n",
    "bk_kiln_mapping.to_csv(f'./{state}_bk_bk_dist.csv')"
   ]
  },
  {
   "cell_type": "code",
   "execution_count": null,
   "metadata": {},
   "outputs": [],
   "source": []
  }
 ],
 "metadata": {
  "kernelspec": {
   "display_name": "shataxi_space",
   "language": "python",
   "name": "python3"
  },
  "language_info": {
   "codemirror_mode": {
    "name": "ipython",
    "version": 3
   },
   "file_extension": ".py",
   "mimetype": "text/x-python",
   "name": "python",
   "nbconvert_exporter": "python",
   "pygments_lexer": "ipython3",
   "version": "3.11.5"
  }
 },
 "nbformat": 4,
 "nbformat_minor": 2
}
