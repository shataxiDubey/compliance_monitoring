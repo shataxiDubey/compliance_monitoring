{
 "cells": [
  {
   "cell_type": "code",
   "execution_count": 1,
   "metadata": {},
   "outputs": [],
   "source": [
    "import pandas as pd\n",
    "import geopandas as gpd\n",
    "import numpy as np\n",
    "import itertools\n",
    "from scipy.spatial import cKDTree\n",
    "import geopy.distance\n",
    "from operator import itemgetter"
   ]
  },
  {
   "cell_type": "code",
   "execution_count": 2,
   "metadata": {},
   "outputs": [],
   "source": [
    "def ckdnearest_hospital(brick_kilns, hospital_df):\n",
    "    A = np.vstack([np.array(geom) for geom in brick_kilns[['lon', 'lat']].values])\n",
    "    B = np.vstack([np.array(geom) for geom in hospital_df[['Longitude', 'Latitude']].values])\n",
    "    ckd_tree = cKDTree(B)\n",
    "    dist, hospital_idx = ckd_tree.query(A, k=1)\n",
    "    closest_hospital_point = B[hospital_idx]\n",
    "    gdf = pd.concat(\n",
    "        [brick_kilns,\n",
    "            pd.DataFrame(closest_hospital_point, columns=['closest_hospital_long', 'closest_hospital_lat']),\n",
    "            pd.Series(dist, name='dist')], axis=1)\n",
    "    return gdf\n",
    "\n",
    "def cal_bk_hosp_dist(path, hospital_df):\n",
    "    state_bk = pd.read_csv(path)\n",
    "    bk_hospital_mapping = ckdnearest_hospital(state_bk, hospital_df)\n",
    "    bk_hospital_mapping['distance_km'] = 0\n",
    "    for i in range(len(bk_hospital_mapping)):\n",
    "        bk_hospital_mapping['distance_km'][i] = geopy.distance.distance(\n",
    "            (bk_hospital_mapping['lat'][i], bk_hospital_mapping['lon'][i]),\n",
    "            (bk_hospital_mapping['closest_hospital_lat'][i], bk_hospital_mapping['closest_hospital_long'][i])\n",
    "        ).km\n",
    "    return bk_hospital_mapping"
   ]
  },
  {
   "cell_type": "code",
   "execution_count": 9,
   "metadata": {},
   "outputs": [
    {
     "name": "stderr",
     "output_type": "stream",
     "text": [
      "/tmp/ipykernel_206226/3264543993.py:18: FutureWarning: ChainedAssignmentError: behaviour will change in pandas 3.0!\n",
      "You are setting values through chained assignment. Currently this works in certain cases, but when using Copy-on-Write (which will become the default behaviour in pandas 3.0) this will never work to update the original DataFrame or Series, because the intermediate object on which we are setting values will behave as a copy.\n",
      "A typical example is when you are setting values in a column of a DataFrame, like:\n",
      "\n",
      "df[\"col\"][row_indexer] = value\n",
      "\n",
      "Use `df.loc[row_indexer, \"col\"] = values` instead, to perform the assignment in a single step and ensure this keeps updating the original `df`.\n",
      "\n",
      "See the caveats in the documentation: https://pandas.pydata.org/pandas-docs/stable/user_guide/indexing.html#returning-a-view-versus-a-copy\n",
      "\n",
      "  bk_hospital_mapping['distance_km'][i] = geopy.distance.distance(\n",
      "/tmp/ipykernel_206226/3264543993.py:18: SettingWithCopyWarning: \n",
      "A value is trying to be set on a copy of a slice from a DataFrame\n",
      "\n",
      "See the caveats in the documentation: https://pandas.pydata.org/pandas-docs/stable/user_guide/indexing.html#returning-a-view-versus-a-copy\n",
      "  bk_hospital_mapping['distance_km'][i] = geopy.distance.distance(\n",
      "/tmp/ipykernel_206226/3264543993.py:18: FutureWarning: Setting an item of incompatible dtype is deprecated and will raise an error in a future version of pandas. Value '1.0489544183621473' has dtype incompatible with int64, please explicitly cast to a compatible dtype first.\n",
      "  bk_hospital_mapping['distance_km'][i] = geopy.distance.distance(\n"
     ]
    }
   ],
   "source": [
    "brick_kilns_paths = {\n",
    "    'All' : '/home/shataxi.dubey/shataxi_work/Monitoring_Brick_Kiln_Compliance/combined_file.csv',\n",
    "    \"Punjab\": '/home/shataxi.dubey/shataxi_work/Monitoring_Brick_Kiln_Compliance/punjab.csv',\n",
    "    \"Haryana\": '/home/shataxi.dubey/shataxi_work/Monitoring_Brick_Kiln_Compliance/haryana.csv',\n",
    "    \"Bihar\": '/home/shataxi.dubey/shataxi_work/Monitoring_Brick_Kiln_Compliance/bihar.csv',\n",
    "    \"Uttar Pradesh\": '/home/shataxi.dubey/shataxi_work/Monitoring_Brick_Kiln_Compliance/uttar_pradesh.csv',\n",
    "    \"West Bengal\": '/home/shataxi.dubey/shataxi_work/Monitoring_Brick_Kiln_Compliance/west_bengal.csv',\n",
    "}\n",
    "\n",
    "state = 'West Bengal'\n",
    "# Load brick kilns data for the selected state\n",
    "brick_kilns_path = brick_kilns_paths[state]\n",
    "brick_kilns = pd.read_csv(brick_kilns_path)\n",
    "\n",
    "hospital_df = pd.read_csv('/home/shataxi.dubey/shataxi_work/Monitoring_Brick_Kiln_Compliance/India_Hospital_Data.csv')\n",
    "hospital_df = hospital_df.rename(columns={'lon': 'Longitude', 'lat': 'Latitude'})\n",
    "\n",
    "bk_hospital_mapping = cal_bk_hosp_dist(brick_kilns_path, hospital_df)\n",
    "bk_hospital_mapping.to_csv(f'./{state}_bk_hospital_dist.csv')"
   ]
  }
 ],
 "metadata": {
  "kernelspec": {
   "display_name": "shataxi_space",
   "language": "python",
   "name": "python3"
  },
  "language_info": {
   "codemirror_mode": {
    "name": "ipython",
    "version": 3
   },
   "file_extension": ".py",
   "mimetype": "text/x-python",
   "name": "python",
   "nbconvert_exporter": "python",
   "pygments_lexer": "ipython3",
   "version": "3.11.5"
  }
 },
 "nbformat": 4,
 "nbformat_minor": 2
}
